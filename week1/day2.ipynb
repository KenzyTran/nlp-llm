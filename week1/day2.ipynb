{
 "cells": [
  {
   "cell_type": "markdown",
   "id": "28a0673e-96b5-43f2-8a8b-bd033bf851b0",
   "metadata": {},
   "source": [
    "# Bộ định giá sản phẩm (Product Pricer) – Phần tiếp theo\n",
    "\n",
    "Một mô hình có thể ước tính giá của một sản phẩm từ mô tả của nó.\n",
    "\n",
    "## Quản lý dữ liệu (Data Curation) – Phần 2\n",
    "\n",
    "Hôm nay, chúng ta sẽ mở rộng tập dữ liệu để bao phủ nhiều sản phẩm hơn, đồng thời tinh chỉnh nó thành một bộ dữ liệu tuyệt vời phục vụ cho huấn luyện mô hình.  \n",
    "Việc quản lý dữ liệu có thể không hào hứng như các công việc khác mà chúng ta vẫn làm, nhưng nó là một phần quan trọng trong trách nhiệm của kỹ sư LLM và là một kỹ năng cần rèn luyện, để bạn có thể xây dựng các giải pháp thương mại với bộ dữ liệu chất lượng cao.\n",
    "\n",
    "Bộ dữ liệu nằm ở đây:  \n",
    "https://huggingface.co/datasets/McAuley-Lab/Amazon-Reviews-2023\n",
    "\n",
    "Và thư mục chứa tất cả các bộ dữ liệu sản phẩm ở đây:  \n",
    "https://huggingface.co/datasets/McAuley-Lab/Amazon-Reviews-2023/tree/main/raw/meta_categories\n",
    "\n",
    "## Lưu ý quan trọng – vui lòng đọc trước\n",
    "\n",
    "Chúng ta sắp tạo một bộ dữ liệu lớn gồm 400.000 mục, bao phủ nhiều loại sản phẩm khác nhau. Ở Tuần 2, chúng ta sẽ sử dụng dữ liệu này để huấn luyện mô hình riêng. Đây là một bộ dữ liệu khá lớn, và tùy thuộc vào GPU bạn chọn, quá trình huấn luyện có thể mất hơn 20 giờ. Quá trình này sẽ rất thú vị, nhưng cũng có thể tốn vài đô la tiền tài nguyên tính toán.\n",
    "\n",
    "Ngoài ra, nếu bạn muốn tiết kiệm thời gian và chi phí, bạn có thể làm việc với một bộ dữ liệu nhỏ hơn chỉ tập trung vào thiết bị gia dụng (Home Appliances). Bạn vẫn sẽ học được đầy đủ các kiến thức cần thiết; kết quả sẽ tốt – dù không bằng bộ dữ liệu đầy đủ, nhưng vẫn rất ấn tượng! Nếu muốn, tôi đã chuẩn bị một notebook Jupyter thay thế trong thư mục này với tên `lite.ipynb` mà bạn nên sử dụng thay cho notebook này.\n",
    "\n",
    "Bên cạnh đó, nếu bạn muốn rút ngắn quá trình xử lý dữ liệu, bạn có thể tải về các file pickle mà chúng ta lưu ở ô lệnh cuối cùng. Các file pickle có sẵn ở đây: https://drive.google.com/drive/folders/1nABNne5dl0u-TDoc_WF-jgVn88TkhUeS"
   ]
  },
  {
   "cell_type": "code",
   "execution_count": null,
   "id": "67cedf85-8125-4322-998e-9375fe745597",
   "metadata": {},
   "outputs": [],
   "source": [
    "# imports\n",
    "\n",
    "import os\n",
    "import random\n",
    "from dotenv import load_dotenv\n",
    "from huggingface_hub import login\n",
    "from datasets import load_dataset, Dataset, DatasetDict\n",
    "import matplotlib.pyplot as plt\n",
    "from collections import Counter, defaultdict\n",
    "import numpy as np\n",
    "import pickle"
   ]
  },
  {
   "cell_type": "code",
   "execution_count": null,
   "id": "7390a6aa-79cb-4dea-b6d7-de7e4b13e472",
   "metadata": {},
   "outputs": [],
   "source": [
    "# environment\n",
    "\n",
    "load_dotenv(override=True)\n",
    "os.environ['OPENAI_API_KEY'] = os.getenv('OPENAI_API_KEY', 'your-key-if-not-using-env')\n",
    "os.environ['ANTHROPIC_API_KEY'] = os.getenv('ANTHROPIC_API_KEY', 'your-key-if-not-using-env')\n",
    "os.environ['HF_TOKEN'] = os.getenv('HF_TOKEN', 'your-key-if-not-using-env')"
   ]
  },
  {
   "cell_type": "code",
   "execution_count": null,
   "id": "0732274a-aa6a-44fc-aee2-40dc8a8e4451",
   "metadata": {},
   "outputs": [],
   "source": [
    "# Log in to HuggingFace\n",
    "\n",
    "hf_token = os.environ['HF_TOKEN']\n",
    "login(hf_token, add_to_git_credential=True)"
   ]
  },
  {
   "cell_type": "code",
   "execution_count": null,
   "id": "6746144c-2e19-485a-8086-368c144722b4",
   "metadata": {},
   "outputs": [],
   "source": [
    "# More imports after HF login\n",
    "\n",
    "from loaders import ItemLoader\n",
    "from items import Item"
   ]
  },
  {
   "cell_type": "code",
   "execution_count": null,
   "id": "1adcf323-de9d-4c24-a9c3-d7ae554d06ca",
   "metadata": {},
   "outputs": [],
   "source": [
    "%matplotlib inline"
   ]
  },
  {
   "cell_type": "markdown",
   "id": "01065d69-765c-42c8-9f90-68b8c8754068",
   "metadata": {},
   "source": [
    "## Mã nguồn ItemLoader\n",
    "\n",
    "Hãy xem trong file loaders.py – ở đó có một số đoạn mã hữu ích giúp công việc của chúng ta trở nên dễ dàng hơn."
   ]
  },
  {
   "cell_type": "code",
   "execution_count": null,
   "id": "049885d4-fdfa-4ff0-a932-4a2ed73928e2",
   "metadata": {},
   "outputs": [],
   "source": [
    "# Load in the same dataset as last time\n",
    "\n",
    "items = ItemLoader(\"Appliances\").load()"
   ]
  },
  {
   "cell_type": "code",
   "execution_count": null,
   "id": "ffba41b5-ddb6-4359-9790-9b2db900eee1",
   "metadata": {},
   "outputs": [],
   "source": [
    "# Look for a familiar item..\n",
    "print(items[1].prompt)"
   ]
  },
  {
   "cell_type": "markdown",
   "id": "e2b6dc50-ac5c-4cf2-af2e-968ed8ef86d7",
   "metadata": {},
   "source": [
    "## Bây giờ là mở rộng quy mô\n",
    "\n",
    "Hãy cùng xem tất cả các bộ datasets về các items mà bạn có thể tìm thấy trong một cửa hàng bán lẻ gia dụng lớn – bao gồm electrical, electronic, office và các category liên quan, ngoại trừ clothes/ beauty/ books."
   ]
  },
  {
   "cell_type": "code",
   "execution_count": null,
   "id": "d1d06cd3-f3c2-44f0-a9f2-13b54ff8be5c",
   "metadata": {},
   "outputs": [],
   "source": [
    "dataset_names = [\n",
    "    \"Automotive\",\n",
    "    \"Electronics\",\n",
    "    \"Office_Products\",\n",
    "    \"Tools_and_Home_Improvement\",\n",
    "    \"Cell_Phones_and_Accessories\",\n",
    "    \"Toys_and_Games\",\n",
    "    \"Appliances\",\n",
    "    \"Musical_Instruments\",\n",
    "]"
   ]
  },
  {
   "cell_type": "code",
   "execution_count": null,
   "id": "aa8fd0f0-509a-4298-8fcc-e499a061e1be",
   "metadata": {},
   "outputs": [],
   "source": [
    "items = []\n",
    "for dataset_name in dataset_names:\n",
    "    loader = ItemLoader(dataset_name)\n",
    "    items.extend(loader.load())\n",
    "\n",
    "# Now, time for a coffee break!!\n",
    "# By the way, I put the biggest datasets first.. it gets faster."
   ]
  },
  {
   "cell_type": "code",
   "execution_count": null,
   "id": "3e29a5ab-ca61-41cc-9b33-22d374681b85",
   "metadata": {},
   "outputs": [],
   "source": [
    "print(f\"A grand total of {len(items):,} items\")"
   ]
  },
  {
   "cell_type": "code",
   "execution_count": null,
   "id": "89078cb1-9679-4eb0-b295-599b8586bcd1",
   "metadata": {},
   "outputs": [],
   "source": [
    "# Plot the distribution of token counts again\n",
    "\n",
    "tokens = [item.token_count for item in items]\n",
    "plt.figure(figsize=(15, 6))\n",
    "plt.title(f\"Token counts: Avg {sum(tokens)/len(tokens):,.1f} and highest {max(tokens):,}\\n\")\n",
    "plt.xlabel('Length (tokens)')\n",
    "plt.ylabel('Count')\n",
    "plt.hist(tokens, rwidth=0.7, color=\"skyblue\", bins=range(0, 300, 10))\n",
    "plt.show()"
   ]
  },
  {
   "cell_type": "code",
   "execution_count": null,
   "id": "c38e0c43-9f7a-450e-a911-c94d37d9b9c3",
   "metadata": {},
   "outputs": [],
   "source": [
    "# Plot the distribution of prices\n",
    "\n",
    "prices = [item.price for item in items]\n",
    "plt.figure(figsize=(15, 6))\n",
    "plt.title(f\"Prices: Avg {sum(prices)/len(prices):,.1f} and highest {max(prices):,}\\n\")\n",
    "plt.xlabel('Price ($)')\n",
    "plt.ylabel('Count')\n",
    "plt.hist(prices, rwidth=0.7, color=\"blueviolet\", bins=range(0, 1000, 10))\n",
    "plt.show()"
   ]
  },
  {
   "cell_type": "code",
   "execution_count": null,
   "id": "eabc7c61-0cd2-41f4-baa1-b85400bbf87f",
   "metadata": {},
   "outputs": [],
   "source": [
    "category_counts = Counter()\n",
    "for item in items:\n",
    "    category_counts[item.category]+=1\n",
    "\n",
    "categories = category_counts.keys()\n",
    "counts = [category_counts[category] for category in categories]\n",
    "\n",
    "# Bar chart by category\n",
    "plt.figure(figsize=(15, 6))\n",
    "plt.bar(categories, counts, color=\"goldenrod\")\n",
    "plt.title('How many in each category')\n",
    "plt.xlabel('Categories')\n",
    "plt.ylabel('Count')\n",
    "\n",
    "plt.xticks(rotation=30, ha='right')\n",
    "\n",
    "# Add value labels on top of each bar\n",
    "for i, v in enumerate(counts):\n",
    "    plt.text(i, v, f\"{v:,}\", ha='center', va='bottom')\n",
    "\n",
    "# Display the chart\n",
    "plt.show()"
   ]
  },
  {
   "cell_type": "markdown",
   "id": "e5b6e987-83ba-4262-a082-57c6b0741062",
   "metadata": {},
   "source": [
    "# Mục tiêu\n",
    "\n",
    "Tạo một bộ dữ liệu cân bằng hơn về mặt giá cả. Tránh bị nghiêng quá nhiều về các sản phẩm giá rẻ, với mức giá trung bình cao hơn $60. Đồng thời cố gắng cân bằng giữa các categories – giảm số lượng items thuộc category Automotive."
   ]
  },
  {
   "cell_type": "code",
   "execution_count": null,
   "id": "3b9424c1-44e0-499a-b45e-a35246655469",
   "metadata": {},
   "outputs": [],
   "source": [
    "# Create a dict with a key of each price from $1 to $999\n",
    "# And in the value, put a list of items with that price (to nearest round number)\n",
    "\n",
    "slots = defaultdict(list)\n",
    "for item in items:\n",
    "    slots[round(item.price)].append(item)"
   ]
  },
  {
   "cell_type": "code",
   "execution_count": null,
   "id": "7805a7f1-4ad8-48f6-bea3-d64b64894804",
   "metadata": {},
   "outputs": [],
   "source": [
    "# Create a dataset called \"sample\" which tries to more evenly take from the range of prices\n",
    "# And gives more weight to items from categories other than Automotive\n",
    "# Set random seed for reproducibility\n",
    "\n",
    "np.random.seed(42)\n",
    "random.seed(42)\n",
    "sample = []\n",
    "for i in range(1, 1000):\n",
    "    slot = slots[i]\n",
    "    if i>=240:\n",
    "        sample.extend(slot)\n",
    "    elif len(slot) <= 1200:\n",
    "        sample.extend(slot)\n",
    "    else:\n",
    "        weights = np.array([1 if item.category=='Automotive' else 5 for item in slot])\n",
    "        weights = weights / np.sum(weights)\n",
    "        selected_indices = np.random.choice(len(slot), size=1200, replace=False, p=weights)\n",
    "        selected = [slot[i] for i in selected_indices]\n",
    "        sample.extend(selected)\n",
    "\n",
    "print(f\"There are {len(sample):,} items in the sample\")"
   ]
  },
  {
   "cell_type": "code",
   "execution_count": null,
   "id": "430b432f-b769-41da-9506-a238cb5cf1b6",
   "metadata": {},
   "outputs": [],
   "source": [
    "# Plot the distribution of prices in sample\n",
    "\n",
    "prices = [float(item.price) for item in sample]\n",
    "plt.figure(figsize=(15, 10))\n",
    "plt.title(f\"Avg {sum(prices)/len(prices):.2f} and highest {max(prices):,.2f}\\n\")\n",
    "plt.xlabel('Price ($)')\n",
    "plt.ylabel('Count')\n",
    "plt.hist(prices, rwidth=0.7, color=\"darkblue\", bins=range(0, 1000, 10))\n",
    "plt.show()"
   ]
  },
  {
   "cell_type": "code",
   "execution_count": null,
   "id": "0d570794-6f1d-462e-b567-a46bae3556a1",
   "metadata": {},
   "outputs": [],
   "source": [
    "# OK, we did well in terms of raising the average price and having a smooth-ish population of prices\n",
    "# Let's see the categories\n",
    "\n",
    "category_counts = Counter()\n",
    "for item in sample:\n",
    "    category_counts[item.category]+=1\n",
    "\n",
    "categories = category_counts.keys()\n",
    "counts = [category_counts[category] for category in categories]\n",
    "\n",
    "# Create bar chart\n",
    "plt.figure(figsize=(15, 6))\n",
    "plt.bar(categories, counts, color=\"lightgreen\")\n",
    "\n",
    "# Customize the chart\n",
    "plt.title('How many in each category')\n",
    "plt.xlabel('Categories')\n",
    "plt.ylabel('Count')\n",
    "\n",
    "plt.xticks(rotation=30, ha='right')\n",
    "\n",
    "# Add value labels on top of each bar\n",
    "for i, v in enumerate(counts):\n",
    "    plt.text(i, v, f\"{v:,}\", ha='center', va='bottom')\n",
    "\n",
    "# Display the chart\n",
    "plt.show()"
   ]
  },
  {
   "cell_type": "code",
   "execution_count": null,
   "id": "6609d77c-3e0a-4679-9129-c7cdc3273070",
   "metadata": {},
   "outputs": [],
   "source": [
    "# Automotive still in the lead, but improved somewhat\n",
    "# For another perspective, let's look at a pie\n",
    "\n",
    "plt.figure(figsize=(12, 10))\n",
    "plt.pie(counts, labels=categories, autopct='%1.0f%%', startangle=90)\n",
    "\n",
    "# Add a circle at the center to create a donut chart (optional)\n",
    "centre_circle = plt.Circle((0,0), 0.70, fc='white')\n",
    "fig = plt.gcf()\n",
    "fig.gca().add_artist(centre_circle)\n",
    "plt.title('Categories')\n",
    "\n",
    "# Equal aspect ratio ensures that pie is drawn as a circle\n",
    "plt.axis('equal')  \n",
    "\n",
    "plt.show()"
   ]
  },
  {
   "cell_type": "markdown",
   "id": "ac046cc1-2717-415b-96ad-b73b2950d235",
   "metadata": {},
   "source": [
    "# Bộ dữ liệu đã được quản lý!\n",
    "\n",
    "Chúng ta đã tạo ra một bộ dữ liệu tuyệt vời.\n",
    "\n",
    "Hãy thực hiện một số kiểm tra cuối cùng."
   ]
  },
  {
   "cell_type": "code",
   "execution_count": null,
   "id": "70219e99-22cc-4e08-9121-51f9707caef0",
   "metadata": {},
   "outputs": [],
   "source": [
    "# How does the price vary with the character count of the prompt?\n",
    "\n",
    "sizes = [len(item.prompt) for item in sample]\n",
    "prices = [item.price for item in sample]\n",
    "\n",
    "# Create the scatter plot\n",
    "plt.figure(figsize=(15, 8))\n",
    "plt.scatter(sizes, prices, s=0.2, color=\"red\")\n",
    "\n",
    "# Add labels and title\n",
    "plt.xlabel('Size')\n",
    "plt.ylabel('Price')\n",
    "plt.title('Is there a simple correlation?')\n",
    "\n",
    "# Display the plot\n",
    "plt.show()"
   ]
  },
  {
   "cell_type": "code",
   "execution_count": null,
   "id": "30ae1453-b9fc-40db-8310-65d850c4b1da",
   "metadata": {},
   "outputs": [],
   "source": [
    "def report(item):\n",
    "    prompt = item.prompt\n",
    "    tokens = Item.tokenizer.encode(item.prompt)\n",
    "    print(prompt)\n",
    "    print(tokens[-10:])\n",
    "    print(Item.tokenizer.batch_decode(tokens[-10:]))"
   ]
  },
  {
   "cell_type": "code",
   "execution_count": null,
   "id": "d9998b8d-d746-4541-9ac2-701108e0e8fb",
   "metadata": {},
   "outputs": [],
   "source": [
    "report(sample[398000])"
   ]
  },
  {
   "cell_type": "markdown",
   "id": "7aa0a3fc-d2fe-4e6e-8fdb-96913df2f588",
   "metadata": {},
   "source": [
    "## Nhận xét\n",
    "\n",
    "Một điều thú vị về bộ tokenizer của Llama là mọi số từ 1 đến 999 đều được ánh xạ thành 1 token, tương tự như chúng ta đã thấy với gpt-4o. Điều này không đúng với qwen2, gemma và phi3, vì các model này ánh xạ từng chữ số riêng lẻ thành các token. Điều này thực sự khá hữu ích cho dự án của chúng ta, mặc dù nó không phải là một yêu cầu bắt buộc."
   ]
  },
  {
   "cell_type": "markdown",
   "id": "0f03c0ee-3103-4603-af5c-b484884a3aa2",
   "metadata": {},
   "source": [
    "# Cuối cùng\n",
    "\n",
    "Đã đến lúc chia nhỏ dữ liệu của chúng ta thành các bộ dữ liệu huấn luyện, kiểm tra và xác thực.\n",
    "\n",
    "Thông thường, người ta sử dụng 5%-10% dữ liệu cho mục đích kiểm tra, nhưng thực tế là hiện tại chúng ta có nhiều dữ liệu hơn mức cần thiết. Chúng ta sẽ lấy 400.000 mẫu cho bộ dữ liệu huấn luyện, và dành 2.000 mẫu cho bộ kiểm tra, mặc dù thực tế sẽ không sử dụng hết số này.\n"
   ]
  },
  {
   "cell_type": "code",
   "execution_count": null,
   "id": "3b163ca2-18ef-4c26-8e9d-88eb55f114f6",
   "metadata": {},
   "outputs": [],
   "source": [
    "random.seed(42)\n",
    "random.shuffle(sample)\n",
    "train = sample[:400_000]\n",
    "test = sample[400_000:402_000]\n",
    "print(f\"Divided into a training set of {len(train):,} items and test set of {len(test):,} items\")"
   ]
  },
  {
   "cell_type": "code",
   "execution_count": null,
   "id": "299b9816-8885-4798-829a-69d66d60eb01",
   "metadata": {},
   "outputs": [],
   "source": [
    "print(train[0].prompt)"
   ]
  },
  {
   "cell_type": "code",
   "execution_count": null,
   "id": "97222da3-9f2c-4d15-a5cd-5e5f8dbde6cc",
   "metadata": {},
   "outputs": [],
   "source": [
    "print(test[0].test_prompt())"
   ]
  },
  {
   "cell_type": "code",
   "execution_count": null,
   "id": "7a116369-335a-412b-b70c-2add6675c2e3",
   "metadata": {},
   "outputs": [],
   "source": [
    "# Plot the distribution of prices in the first 250 test points\n",
    "\n",
    "prices = [float(item.price) for item in test[:250]]\n",
    "plt.figure(figsize=(15, 6))\n",
    "plt.title(f\"Avg {sum(prices)/len(prices):.2f} and highest {max(prices):,.2f}\\n\")\n",
    "plt.xlabel('Price ($)')\n",
    "plt.ylabel('Count')\n",
    "plt.hist(prices, rwidth=0.7, color=\"darkblue\", bins=range(0, 1000, 10))\n",
    "plt.show()"
   ]
  },
  {
   "cell_type": "markdown",
   "id": "d522d752-6f66-4786-a4dc-8ef51842558c",
   "metadata": {},
   "source": [
    "# Cuối cùng – tải lên bộ dữ liệu mới của bạn\n",
    "\n",
    "Chuyển đổi thành các prompt và tải lên HuggingFace hub."
   ]
  },
  {
   "cell_type": "code",
   "execution_count": null,
   "id": "fa11b3e5-fcf4-4efc-a573-f6f67fec3e73",
   "metadata": {},
   "outputs": [],
   "source": [
    "train_prompts = [item.prompt for item in train]\n",
    "train_prices = [item.price for item in train]\n",
    "test_prompts = [item.test_prompt() for item in test]\n",
    "test_prices = [item.price for item in test]"
   ]
  },
  {
   "cell_type": "code",
   "execution_count": null,
   "id": "b020ab1b-7153-4e5f-b8a3-d5bc2fafb6df",
   "metadata": {},
   "outputs": [],
   "source": [
    "# Create a Dataset from the lists\n",
    "\n",
    "train_dataset = Dataset.from_dict({\"text\": train_prompts, \"price\": train_prices})\n",
    "test_dataset = Dataset.from_dict({\"text\": test_prompts, \"price\": test_prices})\n",
    "dataset = DatasetDict({\n",
    "    \"train\": train_dataset,\n",
    "    \"test\": test_dataset\n",
    "})"
   ]
  },
  {
   "cell_type": "code",
   "execution_count": null,
   "id": "17639641-fb55-44e2-a463-b0b394d00f32",
   "metadata": {},
   "outputs": [],
   "source": [
    "# Uncomment these lines if you're ready to push to the hub, and replace my name with your HF username\n",
    "\n",
    "# HF_USER = \"kenzytran\"\n",
    "# DATASET_NAME = f\"{HF_USER}/pricer-data\"\n",
    "# dataset.push_to_hub(DATASET_NAME, private=True)"
   ]
  },
  {
   "cell_type": "code",
   "execution_count": null,
   "id": "b85733ba-d165-4f07-b055-46803543edfe",
   "metadata": {},
   "outputs": [],
   "source": [
    "# One more thing!\n",
    "# Let's pickle the training and test dataset so we don't have to execute all this code next time!\n",
    "\n",
    "with open('train.pkl', 'wb') as file:\n",
    "    pickle.dump(train, file)\n",
    "\n",
    "with open('test.pkl', 'wb') as file:\n",
    "    pickle.dump(test, file)"
   ]
  },
  {
   "cell_type": "markdown",
   "id": "2b58dc61-747f-46f7-b9e0-c205db4f3e5e",
   "metadata": {},
   "source": [
    "## Các việc cần làm cho bạn:\n",
    "\n",
    "- Nghiên cứu kỹ hơn về bộ dữ liệu!\n",
    "- Xác nhận rằng tokenizer phân tách tất cả các giá trị có 3 chữ số thành 1 token"
   ]
  }
 ],
 "metadata": {
  "kernelspec": {
   "display_name": "Python 3 (ipykernel)",
   "language": "python",
   "name": "python3"
  },
  "language_info": {
   "codemirror_mode": {
    "name": "ipython",
    "version": 3
   },
   "file_extension": ".py",
   "mimetype": "text/x-python",
   "name": "python",
   "nbconvert_exporter": "python",
   "pygments_lexer": "ipython3",
   "version": "3.11.12"
  }
 },
 "nbformat": 4,
 "nbformat_minor": 5
}
